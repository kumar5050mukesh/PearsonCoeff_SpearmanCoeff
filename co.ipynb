{
 "cells": [
  {
   "cell_type": "code",
   "execution_count": 5,
   "metadata": {},
   "outputs": [
    {
     "name": "stdout",
     "output_type": "stream",
     "text": [
      "0.9909696771777156\n"
     ]
    }
   ],
   "source": [
    "# Q1. Pearson correlation coefficient is a measure of the linear relationship between two variables. Suppose\n",
    "# you have collected data on the amount of time students spend studying for an exam and their final exam\n",
    "# scores. Calculate the Pearson correlation coefficient between these two variables and interpret the result.\n",
    "\n",
    "import pandas as pd\n",
    "import numpy as np\n",
    "\n",
    "\n",
    "df=pd.DataFrame({\"study_hour\":[23,34,56,78,90,34,56],\n",
    "              \"marks\":[34,38,60,82,95,45,67]})\n",
    "\n",
    "corr_coeff=np.corrcoef(df[\"study_hour\"],df[\"marks\"])[0,1]\n",
    "print(corr_coeff)\n",
    "\n",
    "\"\"\"The value of the correlation coefficient is 0.9909 it means marks and the study_hour has a strong positive correlation ,\n",
    "The more you study the more marks you will get \"\"\"\n",
    "\n"
   ]
  },
  {
   "cell_type": "code",
   "execution_count": 15,
   "metadata": {},
   "outputs": [
    {
     "name": "stdout",
     "output_type": "stream",
     "text": [
      " spearman_coefficient:0.4  p_value:0.37393392381774704\n"
     ]
    }
   ],
   "source": [
    "# Q2. Spearman's rank correlation is a measure of the monotonic relationship between two variables.\n",
    "# Suppose you have collected data on the amount of sleep individuals get each night and their overall job\n",
    "# satisfaction level on a scale of 1 to 10. Calculate the Spearman's rank correlation between these two\n",
    "# variables and interpret the result.\n",
    "from scipy.stats import spearmanr\n",
    "\n",
    "df=pd.DataFrame({\"amount_of_sleep\":[6,6.5,7,7.5,8,5.5,7.5],\n",
    "              \"job_satisfaction_percentage\":[60,68,80,81,60,45,67]})\n",
    "corr_coeff, p_val=spearmanr(df[\"amount_of_sleep\"],df[\"job_satisfaction_percentage\"])\n",
    "print(f\" spearman_coefficient:{corr_coeff}  p_value:{p_val}\")\n",
    "\"\"\"The coefficent of the spearman coeffient is is 0.4. It means that there is a positive relation between amount_of_sleep and\n",
    " job_satisfaction_percentage .But it is weakly positively linked . \n",
    " \n",
    " The p value is 0.373 , if the value of p is less then 0.05 then it means that null hypothesis is true that means \n",
    " there is no correlation but the p value is 0.373 indicates that the there is a correleation\"\"\"\n",
    "\n",
    "\n"
   ]
  },
  {
   "cell_type": "code",
   "execution_count": 18,
   "metadata": {},
   "outputs": [
    {
     "name": "stdout",
     "output_type": "stream",
     "text": [
      "Pearson correlation coefficient: -0.22958140633970775\n",
      "Spearman correlation coefficient: -0.23493975903614456\n"
     ]
    }
   ],
   "source": [
    "# Q3. Suppose you are conducting a study to examine the relationship between the number of hours of\n",
    "# exercise per week and body mass index (BMI) in a sample of adults. You collected data on both variables\n",
    "# for 50 participants. Calculate the Pearson correlation coefficient and the Spearman's rank correlation\n",
    "# between these two variables and compare the results.\n",
    "import numpy as np\n",
    "import pandas as pd\n",
    "from scipy.stats import pearsonr, spearmanr\n",
    "\n",
    "\n",
    "hours_of_exercise = [2,4,3,1,2,5,6,8]\n",
    "\n",
    "bmi =[20,22,24,26,22,21,20.5,23.5]\n",
    "\n",
    "\n",
    "\n",
    "df = pd.DataFrame({'hours_of_exercise': hours_of_exercise, 'bmi': bmi})\n",
    "\n",
    "\n",
    "pearson_corr, p_value = pearsonr(df['hours_of_exercise'], df['bmi'])\n",
    "print('Pearson correlation coefficient:', pearson_corr)\n",
    "\n",
    "spearman_corr, p_value = spearmanr(df['hours_of_exercise'], df['bmi'])\n",
    "print('Spearman correlation coefficient:', spearman_corr)\n",
    "\n",
    "\"\"\"RESULT:Following result for the pearson coefficient and the spearman coefficient shows the hours_of_exercise and the bmi\n",
    "is negatively correalted ,it means that if hour_of_exercise decreases then the bmi increases and if the hour_of_exercise\n",
    "increases then the bmi decreases\"\"\"\n"
   ]
  },
  {
   "cell_type": "code",
   "execution_count": 20,
   "metadata": {},
   "outputs": [
    {
     "name": "stdout",
     "output_type": "stream",
     "text": [
      "Pearson correlation coefficient: 0.22138270694767376\n",
      "Spearman correlation coefficient: 0.19577430972388954\n"
     ]
    }
   ],
   "source": [
    "# Q4. A researcher is interested in examining the relationship between the number of hours individuals\n",
    "# spend watching television per day and their level of physical activity. The researcher collected data on\n",
    "# both variables from a sample of 50 participants. Calculate the Pearson correlation coefficient between\n",
    "# these two variables.\n",
    "import numpy as np\n",
    "import pandas as pd\n",
    "from scipy.stats import pearsonr, spearmanr\n",
    "\n",
    "\n",
    "hours_watching_television = np.random.normal(2, 1, 50)\n",
    "hours_physical_activity = np.random.normal(3, 1, 50)\n",
    "\n",
    "\n",
    "df = pd.DataFrame({'hours_watching_television': hours_watching_television, 'hours_physical_activity': hours_physical_activity})\n",
    "\n",
    "\n",
    "pearson_corr, p_value = pearsonr(df['hours_watching_television'], df['hours_physical_activity'])\n",
    "print('Pearson correlation coefficient:', pearson_corr)\n",
    "\n",
    "spearman_corr, p_value = spearmanr(df['hours_watching_television'], df['hours_physical_activity'])\n",
    "print('Spearman correlation coefficient:', spearman_corr)\n",
    "\n",
    "\n",
    "\"\"\"The result gives the conclusion that there is a week positive correaltion between the hours_watching_television,and\n",
    "the hours_physical_activity\"\"\"\n"
   ]
  },
  {
   "cell_type": "code",
   "execution_count": 21,
   "metadata": {},
   "outputs": [
    {
     "name": "stdout",
     "output_type": "stream",
     "text": [
      " spearman_coefficient:0.8332380897952965  p_value:0.03939551647885117\n"
     ]
    }
   ],
   "source": [
    "# Q5. A survey was conducted to examine the relationship between age and preference for a particular\n",
    "# brand of soft drink. The survey results are shown below:\n",
    "\n",
    "from scipy.stats import spearmanr\n",
    "import pandas as pd\n",
    "\n",
    "df=pd.DataFrame({\"age\":[25,42,37,19,31,28],\n",
    "              \"soft_drink_preference\":[\"coke\",\"pepsi\",\"mountain_dew\",\"coke\",\"pepsi\",\"coke\"]})\n",
    "corr_coeff, p_val=spearmanr(df[\"age\"],df[\"soft_drink_preference\"])\n",
    "print(f\" spearman_coefficient:{corr_coeff}  p_value:{p_val}\")\n",
    "\n",
    "\"\"\"The value of the coefficient is 0.8332 and p_value 0.039 shows there is a strong correltion between the age \n",
    "and the soft_drink_preferred \"\"\""
   ]
  },
  {
   "cell_type": "code",
   "execution_count": 22,
   "metadata": {},
   "outputs": [
    {
     "name": "stdout",
     "output_type": "stream",
     "text": [
      " spearman_coefficient:1.0  p_value:0.0\n"
     ]
    },
    {
     "data": {
      "text/plain": [
       "'The value of the coefficient is 0.8332 and p_value 0.039 shows there is a strong correltion between the age \\nand the soft_drink_preferred '"
      ]
     },
     "execution_count": 22,
     "metadata": {},
     "output_type": "execute_result"
    }
   ],
   "source": [
    "# Q6. A company is interested in examining the relationship between the number of sales calls made per day\n",
    "# and the number of sales made per week. The company collected data on both variables from a sample of\n",
    "# 30 sales representatives. Calculate the Pearson correlation coefficient between these two variables.\n",
    "\n",
    "from scipy.stats import spearmanr\n",
    "import pandas as pd\n",
    "\n",
    "df=pd.DataFrame({\"sales_call_per_week\":[500,600,550,450,700,800],\n",
    "              \"sales_per_week\":[50,60,55,45,70,80]})\n",
    "corr_coeff, p_val=spearmanr(df[\"sales_call_per_week\"],df[\"sales_per_week\"])\n",
    "print(f\" spearman_coefficient:{corr_coeff}  p_value:{p_val}\")\n",
    "\n",
    "\"\"\"The value of the coefficient is 0.8332 and p_value 0.039 shows there is a strong correltion between the age \n",
    "and the soft_drink_preferred \"\"\""
   ]
  },
  {
   "cell_type": "code",
   "execution_count": null,
   "metadata": {},
   "outputs": [],
   "source": []
  }
 ],
 "metadata": {
  "kernelspec": {
   "display_name": "Python 3",
   "language": "python",
   "name": "python3"
  },
  "language_info": {
   "codemirror_mode": {
    "name": "ipython",
    "version": 3
   },
   "file_extension": ".py",
   "mimetype": "text/x-python",
   "name": "python",
   "nbconvert_exporter": "python",
   "pygments_lexer": "ipython3",
   "version": "3.11.2"
  },
  "orig_nbformat": 4
 },
 "nbformat": 4,
 "nbformat_minor": 2
}
